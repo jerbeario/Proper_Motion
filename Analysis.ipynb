{
 "cells": [
  {
   "cell_type": "code",
   "execution_count": 1,
   "id": "41fc0a54",
   "metadata": {},
   "outputs": [],
   "source": [
    "import numpy as np\n",
    "import pandas as pd\n",
    "from PyAstronomy import pyasl\n",
    "import matplotlib.pyplot as plt\n",
    "import seaborn as sns"
   ]
  },
  {
   "cell_type": "code",
   "execution_count": 15,
   "id": "0ea658f7",
   "metadata": {},
   "outputs": [
    {
     "data": {
      "text/plain": [
       "Index(['Label', 'slice', 'Saturated', 'J.D.-2400000', 'JD_UTC', 'JD_SOBS',\n",
       "       'HJD_UTC', 'BJD_TDB', 'AIRMASS', 'ALT_OBJ', 'CCD-TEMP', 'EXPTIME',\n",
       "       'RAOBJ2K', 'DECOBJ2K', 'Source_Radius', 'Sky_Rad(min)', 'Sky_Rad(max)',\n",
       "       'X(IJ)', 'Y(IJ)', 'X(FITS)', 'Y(FITS)', 'RA', 'DEC', 'Source-Sky',\n",
       "       'N_Src_Pixels', 'Source_Error', 'Source_SNR', 'Peak', 'Mean',\n",
       "       'Sky/Pixel', 'N_Sky_Pixels', 'FWHM', 'Width', 'X-Width', 'Y-Width',\n",
       "       'Angle', 'Roundness'],\n",
       "      dtype='object')"
      ]
     },
     "execution_count": 15,
     "metadata": {},
     "output_type": "execute_result"
    }
   ],
   "source": [
    "df = pd.read_table('Measurements.tbl')\n",
    "df.columns"
   ]
  },
  {
   "cell_type": "code",
   "execution_count": 16,
   "id": "13019486",
   "metadata": {},
   "outputs": [],
   "source": [
    "df = df[['Label', 'J.D.-2400000', 'RA', 'DEC']]\n",
    "df.loc[0,'Label'] = 'POSSI'\n",
    "df.loc[1,'Label'] = 'POSSII'\n",
    "df.loc[2,'Label'] = 'T32'\n",
    "df = df.set_index('Label')"
   ]
  },
  {
   "cell_type": "code",
   "execution_count": 17,
   "id": "82f5986d",
   "metadata": {},
   "outputs": [
    {
     "name": "stdout",
     "output_type": "stream",
     "text": [
      "\\begin{tabular}{lrrr}\n",
      " & J.D.-2400000 & RA & DEC \\\\\n",
      "Label &  &  &  \\\\\n",
      "POSSI & 35242.703067 & 13.498984 & 10.390593 \\\\\n",
      "POSSII & 50550.878877 & 13.499870 & 10.378123 \\\\\n",
      "T32 & 60057.074424 & 13.500420 & 10.370666 \\\\\n",
      "\\end{tabular}\n",
      "\n"
     ]
    }
   ],
   "source": [
    "print(df.style.to_latex())"
   ]
  },
  {
   "cell_type": "code",
   "execution_count": 18,
   "id": "d053ac01",
   "metadata": {},
   "outputs": [],
   "source": [
    "def get_angular_seperation(star1_RA, star1_DEC, star2_RA, star2_DEC):\n",
    "    '''\n",
    "    Caculates the angular seperation between two points on the celestial sphere \n",
    "            from their respective right ascensions and decliantions.\n",
    "    Inputs: RA and DEC in decimal degrees for each point \n",
    "    \n",
    "    Outputs: angular seperation in decimal degrees\n",
    "    \n",
    "    '''\n",
    "\n",
    "    alpha = (star1_RA-star2_RA)*15\n",
    "    \n",
    "    star1_DEC_rad = np.deg2rad(star1_DEC)\n",
    "    star2_DEC_rad = np.deg2rad(star2_DEC)\n",
    "    \n",
    "    alpha_rad = np.deg2rad(alpha)\n",
    "    \n",
    "    cosd = np.sin(star1_DEC_rad)*np.sin(star2_DEC_rad) + np.cos(star1_DEC_rad)*np.cos(star2_DEC_rad)*np.cos(alpha_rad)\n",
    "    dist = np.rad2deg(np.arccos(cosd))\n",
    "    print(f'Observation 1 and 2 are seperated by an angle of {dist} degrees')\n",
    "    \n",
    "    return dist"
   ]
  },
  {
   "cell_type": "code",
   "execution_count": 19,
   "id": "daf227d4",
   "metadata": {},
   "outputs": [],
   "source": [
    "def get_proper_motion(observation1, observation2):\n",
    "    '''\n",
    "    Calculates the proper motion between the observations.\n",
    "    \n",
    "    Inputs : names of the two observations from measurements dataframe\n",
    "    \n",
    "    Outputs : proper motion of the star \n",
    "    \n",
    "    '''\n",
    "    angular_distance = get_angular_seperation(df.loc[observation1, 'RA'], df.loc[observation1, 'DEC'], df.loc[observation2, 'RA'], df.loc[observation2, 'DEC'])\n",
    "    delta_time = abs(df.loc[observation2,'J.D.-2400000' ]-df.loc[observation1,'J.D.-2400000' ])/365.25\n",
    "    proper_motion = 3600*angular_distance/delta_time\n",
    "    print(f\"and by a time of  {delta_time} years. \")\n",
    "    print(f\"The Result is a proper motion of {proper_motion} arcseconds per year.\")\n",
    "    return proper_motion"
   ]
  },
  {
   "cell_type": "code",
   "execution_count": 20,
   "id": "3fb3eccf",
   "metadata": {},
   "outputs": [],
   "source": [
    "def get_position_angle(observation1, observation2):\n",
    "    deltaRA = abs(df.loc[observation1, 'RA'] - df.loc[observation2, 'RA'])\n",
    "    deltaDEC = abs(df.loc[observation1, 'DEC'] - df.loc[observation2, 'DEC'])\n",
    "    theta = np.rad2deg(np.arctan(deltaRA/deltaDEC))\n",
    "    PA = 180 - theta\n",
    "    print(f\"The position angle is {PA} degrees\")\n",
    "    return PA, deltaRA, deltaDEC"
   ]
  },
  {
   "cell_type": "code",
   "execution_count": 28,
   "id": "e8f5e10b",
   "metadata": {},
   "outputs": [
    {
     "name": "stdout",
     "output_type": "stream",
     "text": [
      "Observation 1 and 2 are seperated by an angle of 0.018065614510467877 degrees\n",
      "and by a time of  41.91150119147231 years. \n",
      "The Result is a proper motion of 1.5517509606865907 arcseconds per year.\n"
     ]
    }
   ],
   "source": [
    "pm = get_proper_motion('POSSII', 'POSSI')"
   ]
  },
  {
   "cell_type": "code",
   "execution_count": 35,
   "id": "270dc3e4",
   "metadata": {},
   "outputs": [
    {
     "name": "stdout",
     "output_type": "stream",
     "text": [
      "The position angle is 175.8778024339849 degrees\n"
     ]
    }
   ],
   "source": [
    "pa = get_position_angle('T32', 'POSSI')"
   ]
  },
  {
   "cell_type": "code",
   "execution_count": 117,
   "id": "f19e43dc",
   "metadata": {},
   "outputs": [
    {
     "data": {
      "text/plain": [
       "176.00222431633145"
      ]
     },
     "execution_count": 117,
     "metadata": {},
     "output_type": "execute_result"
    }
   ],
   "source": [
    "observation1 = 'POSSI'\n",
    "observation2 = 'POSSII'\n",
    "pyasl.positionAngle(df.loc[observation1, 'RA'], df.loc[observation1, 'DEC'], df.loc[observation2, 'RA'], df.loc[observation2, 'DEC'])"
   ]
  },
  {
   "cell_type": "code",
   "execution_count": 13,
   "id": "9f4dd482",
   "metadata": {},
   "outputs": [
    {
     "data": {
      "image/png": "[encoded data removed]",
      "text/plain": [
       "<Figure size 432x288 with 1 Axes>"
      ]
     },
     "metadata": {
      "needs_background": "light"
     },
     "output_type": "display_data"
    }
   ],
   "source": [
    "plt.figure()\n",
    "sns.scatterplot(data =df , x = 'RA', y = 'DEC', hue = 'Label')\n",
    "ax = plt.gca()\n",
    "ax.set_xlim(max(df['RA']), min(df['RA']))\n",
    "ax.axis('equal')\n",
    "plt.title('Plotting motion of LHS 352 in equatorial coordinates')\n",
    "plt.savefig('Plot.png')"
   ]
  },
  {
   "cell_type": "code",
   "execution_count": 39,
   "id": "7de82f5f",
   "metadata": {},
   "outputs": [
    {
     "data": {
      "text/plain": [
       "30.998509687034293"
      ]
     },
     "execution_count": 39,
     "metadata": {},
     "output_type": "execute_result"
    }
   ],
   "source": [
    "100*(175.8- 134.2)/ 134.2"
   ]
  },
  {
   "cell_type": "code",
   "execution_count": null,
   "id": "e5cce071",
   "metadata": {},
   "outputs": [],
   "source": []
  }
 ],
 "metadata": {
  "kernelspec": {
   "display_name": "Python 3 (ipykernel)",
   "language": "python",
   "name": "python3"
  },
  "language_info": {
   "codemirror_mode": {
    "name": "ipython",
    "version": 3
   },
   "file_extension": ".py",
   "mimetype": "text/x-python",
   "name": "python",
   "nbconvert_exporter": "python",
   "pygments_lexer": "ipython3",
   "version": "3.10.0"
  }
 },
 "nbformat": 4,
 "nbformat_minor": 5
}
